{
  "nbformat": 4,
  "nbformat_minor": 0,
  "metadata": {
    "colab": {
      "provenance": [],
      "authorship_tag": "ABX9TyMeqYd5zX1AesFwrTc+G8CM",
      "include_colab_link": true
    },
    "kernelspec": {
      "name": "python3",
      "display_name": "Python 3"
    },
    "language_info": {
      "name": "python"
    }
  },
  "cells": [
    {
      "cell_type": "markdown",
      "metadata": {
        "id": "view-in-github",
        "colab_type": "text"
      },
      "source": [
        "<a href=\"https://colab.research.google.com/github/tobipe08/OrientEd-sources/blob/main/languageModel.ipynb\" target=\"_parent\"><img src=\"https://colab.research.google.com/assets/colab-badge.svg\" alt=\"Open In Colab\"/></a>"
      ]
    },
    {
      "cell_type": "code",
      "execution_count": null,
      "metadata": {
        "id": "c5MAg_Phe0nO"
      },
      "outputs": [],
      "source": [
        "from transformers import BertTokenizer, BertForSequenceClassification\n",
        "from datasets import load_dataset\n",
        "from transformers import Trainer, TrainingArguments\n",
        "\n",
        "# Cargar el modelo y el tokenizador\n",
        "tokenizer = BertTokenizer.from_pretrained('bert-base-uncased')\n",
        "model = BertForSequenceClassification.from_pretrained('bert-base-uncased', num_labels=3)\n",
        "\n",
        "# Cargar tus datos (por ejemplo, desde un archivo CSV)\n",
        "dataset = load_dataset('csv', data_files={'train': 'train.csv', 'test': 'test.csv'})\n",
        "\n",
        "# Tokenización de los datos\n",
        "def tokenize_function(examples):\n",
        "    return tokenizer(examples['text'], padding='max_length', truncation=True)\n",
        "\n",
        "tokenized_dataset = dataset.map(tokenize_function, batched=True)\n",
        "\n",
        "training_args = TrainingArguments(\n",
        "    output_dir='./results',       # Carpeta para guardar resultados\n",
        "    evaluation_strategy=\"epoch\",  # Evaluar en cada época\n",
        "    learning_rate=2e-5,\n",
        "    per_device_train_batch_size=16,\n",
        "    per_device_eval_batch_size=16,\n",
        "    num_train_epochs=3,           # Elige el número de épocas\n",
        "    weight_decay=0.01,\n",
        ")\n",
        "\n",
        "# Crear el objeto Trainer\n",
        "trainer = Trainer(\n",
        "    model=model,\n",
        "    args=training_args,\n",
        "    train_dataset=tokenized_dataset['train'],\n",
        "    eval_dataset=tokenized_dataset['test'],\n",
        ")\n",
        "\n",
        "trainer.train()\n",
        "\n",
        "results = trainer.evaluate()\n",
        "print(results)\n",
        "\n",
        "model.save_pretrained(\"./model_save\")\n",
        "tokenizer.save_pretrained(\"./model_save\")\n",
        "\n",
        "#CARGAR EL MODELO\n",
        "#from transformers import pipeline\n",
        "\n",
        "# Cargar el modelo ajustado\n",
        "#classifier = pipeline('text-classification', model='./model_save')\n",
        "\n",
        "# Usar el modelo para hacer predicciones\n",
        "#predictions = classifier(\"¿Qué carrera debería estudiar si me gusta la tecnología?\")\n",
        "#print(predictions)"
      ]
    }
  ]
}